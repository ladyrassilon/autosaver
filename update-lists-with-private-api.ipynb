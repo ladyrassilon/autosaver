{
 "cells": [
  {
   "cell_type": "code",
   "execution_count": null,
   "id": "7a75451c-0d2b-48f0-9d87-8e8c475e2ecb",
   "metadata": {},
   "outputs": [],
   "source": [
    "from instagram_private_api import Client, ClientCompatPatch, ClientCookieExpiredError\n",
    "from instagram_private_api_extensions import pagination"
   ]
  },
  {
   "cell_type": "code",
   "execution_count": null,
   "id": "b130b7fa-1481-4ea9-9c1c-79a81682fd5c",
   "metadata": {},
   "outputs": [],
   "source": [
    "from datetime import datetime\n",
    "from uuid import uuid4\n",
    "import codecs\n",
    "import time\n",
    "import json\n",
    "import random\n",
    "from os import environ"
   ]
  },
  {
   "cell_type": "markdown",
   "id": "649a0197-c810-40af-bad3-b97f699b4472",
   "metadata": {},
   "source": [
    "I don't understand the api, and since I don't trust it, I've used dummy credentials set in my environment"
   ]
  },
  {
   "cell_type": "code",
   "execution_count": null,
   "id": "07cb6cd1-251a-4cc8-9fd9-406071a21edb",
   "metadata": {},
   "outputs": [],
   "source": [
    "def onlogin_callback(api):\n",
    "    cache_settings = api.settings\n",
    "    with open(new_settings_file, 'w') as outfile:\n",
    "        json.dump(cache_settings, outfile, default=to_json)\n",
    "        print('SAVED: {0!s}'.format(new_settings_file))"
   ]
  },
  {
   "cell_type": "code",
   "execution_count": null,
   "id": "d7080961-cd91-44e2-a0b2-a58c584f85e0",
   "metadata": {},
   "outputs": [],
   "source": [
    "username = environ.get(\"TEMP_INSTAGRAM_USERNAME\")\n",
    "password = environ.get(\"TEMP_INSTAGRAM_PASSWORD\")"
   ]
  },
  {
   "cell_type": "code",
   "execution_count": null,
   "id": "4ef84fb4-166e-4a09-986c-ce5196dbf23f",
   "metadata": {},
   "outputs": [],
   "source": [
    "def to_json(python_object):\n",
    "    if isinstance(python_object, bytes):\n",
    "        return {'__class__': 'bytes',\n",
    "                '__value__': codecs.encode(python_object, 'base64').decode()}\n",
    "    raise TypeError(repr(python_object) + ' is not JSON serializable')\n",
    "\n",
    "def from_json(json_object):\n",
    "    if '__class__' in json_object and json_object['__class__'] == 'bytes':\n",
    "        return codecs.decode(json_object['__value__'].encode(), 'base64')\n",
    "    return json_object\n"
   ]
  },
  {
   "cell_type": "code",
   "execution_count": null,
   "id": "cd23ce17-dcff-4640-9e76-071bd8bd293f",
   "metadata": {},
   "outputs": [],
   "source": [
    "try:\n",
    "    with open(\"cached_settings.json\") as json_file:\n",
    "        cached_settings = json.load(json_file, object_hook=from_json)\n",
    "    api = Client(username, password, settings=cached_settings)\n",
    "    cookie_expiry = api.cookie_jar.auth_expires\n",
    "    print('Cookie Expiry: {0!s}'.format(datetime.fromtimestamp(cookie_expiry).strftime('%Y-%m-%dT%H:%M:%SZ')))\n",
    "except ClientCookieExpiredError:\n",
    "    api = Client(username, password)\n",
    "    with open(\"cached_settings.json\", \"w\") as json_file:\n",
    "        json_file.write(json.dumps(api.settings, indent=4, default=to_json))"
   ]
  },
  {
   "cell_type": "markdown",
   "id": "403a529b-334a-4e48-a5d2-06316bd63c86",
   "metadata": {},
   "source": [
    "This is about testing that the authentication is working before we start"
   ]
  },
  {
   "cell_type": "code",
   "execution_count": null,
   "id": "e27c9f26-9ebf-4fca-ad99-b21a4abbccc8",
   "metadata": {},
   "outputs": [],
   "source": [
    "results = api.feed_timeline()"
   ]
  },
  {
   "cell_type": "code",
   "execution_count": null,
   "id": "41faa09f-978b-4ae8-b076-1bb69083bdb5",
   "metadata": {},
   "outputs": [],
   "source": [
    "results"
   ]
  },
  {
   "cell_type": "code",
   "execution_count": null,
   "id": "4ba9c53a-a1c8-4162-b519-4b5a9a1ac0e7",
   "metadata": {},
   "outputs": [],
   "source": [
    "def get_user_latest(user_id, the_username):\n",
    "    rank_token = str(uuid4())\n",
    "    users = []\n",
    "    response = api.user_following(user_id=user_id, rank_token=rank_token)\n",
    "    new_users = response[\"users\"]\n",
    "    users.extend(new_users)\n",
    "    next_max_id = response[\"next_max_id\"]\n",
    "    while next_max_id:\n",
    "        print(f\"{the_username} - {next_max_id}\")\n",
    "        wait_time = random.randrange(500,1000) / 10\n",
    "        time.sleep(wait_time)\n",
    "        response = api.user_following(user_id=user_id, rank_token=rank_token, max_id=next_max_id)\n",
    "        new_users = response[\"users\"]\n",
    "        users.extend(new_users)\n",
    "        next_max_id = response.get(\"next_max_id\")\n",
    "    users.sort(key=lambda x: x.get(\"username\"))\n",
    "    with open(f\"potential_savings/{user_id}_raw.json\", \"w\") as savings_file:\n",
    "        savings_file.write(json.dumps(users, indent=4))\n",
    "    usernames = [user[\"username\"] for user in users]\n",
    "    with open(f\"potential_savings/{user_id}_usernames.txt\", \"w\") as usernames_file:\n",
    "        usernames_file.write(\"\\n\".join(usernames))\n",
    "    with open(f\"potential_savings/{user_id}_id_to_username.txt\", \"w\") as id_to_username_file:\n",
    "        id_to_username_file.write(str(list(the_username)))"
   ]
  },
  {
   "cell_type": "code",
   "execution_count": null,
   "id": "a4d6bf14-df29-4666-a40d-6c2d5605fbd2",
   "metadata": {},
   "outputs": [],
   "source": [
    "users = [\n",
    "    {\"user_id\": \"52200311661\", \"the_username\": \"chopping.block2024\"},\n",
    "    {\"user_id\": \"66383374426\", \"the_username\": \"blockout2024.02\"},\n",
    "]\n",
    "for user in users:\n",
    "    wait_time = random.randrange(500,1000) / 10\n",
    "    get_user_latest(**user)"
   ]
  },
  {
   "cell_type": "code",
   "execution_count": null,
   "id": "4341dcd1-291d-4791-a50f-cbc577cb20ba",
   "metadata": {},
   "outputs": [],
   "source": []
  }
 ],
 "metadata": {
  "kernelspec": {
   "display_name": "Python 3 (ipykernel)",
   "language": "python",
   "name": "python3"
  },
  "language_info": {
   "codemirror_mode": {
    "name": "ipython",
    "version": 3
   },
   "file_extension": ".py",
   "mimetype": "text/x-python",
   "name": "python",
   "nbconvert_exporter": "python",
   "pygments_lexer": "ipython3",
   "version": "3.11.7"
  }
 },
 "nbformat": 4,
 "nbformat_minor": 5
}
